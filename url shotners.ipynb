{
 "cells": [
  {
   "cell_type": "code",
   "execution_count": 8,
   "metadata": {},
   "outputs": [
    {
     "name": "stdout",
     "output_type": "stream",
     "text": [
      "https://tinyurl.com/27sw8eu3\n"
     ]
    }
   ],
   "source": [
    "#pip install pyshorteners\n",
    "#pip install pyperclip\n",
    "import pyshorteners\n",
    "\n",
    "url = input('Enter the url: ')\n",
    "\n",
    "def shortenurl(url):\n",
    "    s = pyshorteners.Shortener()\n",
    "    print(s.tinyurl.short(url))\n",
    "\n",
    "# Call the function with the user input URL\n",
    "shortenurl(url)\n"
   ]
  }
 ],
 "metadata": {
  "kernelspec": {
   "display_name": "Python 3",
   "language": "python",
   "name": "python3"
  },
  "language_info": {
   "codemirror_mode": {
    "name": "ipython",
    "version": 3
   },
   "file_extension": ".py",
   "mimetype": "text/x-python",
   "name": "python",
   "nbconvert_exporter": "python",
   "pygments_lexer": "ipython3",
   "version": "3.11.5"
  },
  "orig_nbformat": 4
 },
 "nbformat": 4,
 "nbformat_minor": 2
}
